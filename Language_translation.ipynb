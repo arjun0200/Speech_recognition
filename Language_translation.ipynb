{
 "cells": [
  {
   "cell_type": "markdown",
   "id": "c88825fd",
   "metadata": {},
   "source": [
    "## Translation and Language Detection"
   ]
  },
  {
   "cell_type": "markdown",
   "id": "70efa0a3",
   "metadata": {},
   "source": [
    "#### TextBlobs can be translated between languages"
   ]
  },
  {
   "cell_type": "code",
   "execution_count": 1,
   "id": "57189533",
   "metadata": {},
   "outputs": [],
   "source": [
    "from textblob import TextBlob"
   ]
  },
  {
   "cell_type": "code",
   "execution_count": 2,
   "id": "1d598007",
   "metadata": {},
   "outputs": [
    {
     "data": {
      "text/plain": [
       "TextBlob(\"आप सभी को शुभकामनाएं\")"
      ]
     },
     "execution_count": 2,
     "metadata": {},
     "output_type": "execute_result"
    }
   ],
   "source": [
    "blob = TextBlob(u'Good wishes to you all')\n",
    "blob.translate(from_lang = 'en', to = 'hi')"
   ]
  },
  {
   "cell_type": "code",
   "execution_count": 3,
   "id": "8ff52314",
   "metadata": {},
   "outputs": [
    {
     "data": {
      "text/plain": [
       "TextBlob(\"आप सभी को खुश करता है\")"
      ]
     },
     "execution_count": 3,
     "metadata": {},
     "output_type": "execute_result"
    }
   ],
   "source": [
    "blob = TextBlob(u'நீங்கள் அனைவருக்கும் நல்வாழ்த்துக்கள்')\n",
    "blob.translate(from_lang = 'ta', to='hi')"
   ]
  },
  {
   "cell_type": "markdown",
   "id": "72be5bde",
   "metadata": {},
   "source": [
    "If no source language is specified, TextBlob will attempt to detect the language. You can specify the source language explicitly, like so. Raises TranslatorError if the TextBlob cannot be translated into the requested language or NotTranslated if the translated result is the same as the input string.\n",
    "\n"
   ]
  },
  {
   "cell_type": "code",
   "execution_count": 4,
   "id": "a36e4fe1",
   "metadata": {},
   "outputs": [
    {
     "data": {
      "text/plain": [
       "TextBlob(\"有总比没有好\")"
      ]
     },
     "execution_count": 4,
     "metadata": {},
     "output_type": "execute_result"
    }
   ],
   "source": [
    "blob = TextBlob(u'Something is better than nothing')\n",
    "blob.translate(from_lang = 'en', to='zh-CN')"
   ]
  },
  {
   "cell_type": "code",
   "execution_count": 5,
   "id": "af258d73",
   "metadata": {},
   "outputs": [
    {
     "data": {
      "text/plain": [
       "TextBlob(\"There is always better than not\")"
      ]
     },
     "execution_count": 5,
     "metadata": {},
     "output_type": "execute_result"
    }
   ],
   "source": [
    "chinese_blob = TextBlob(u\"有总比没有好\")\n",
    "chinese_blob.translate(from_lang=\"zh-CN\", to='en')"
   ]
  },
  {
   "cell_type": "markdown",
   "id": "ee53cb71",
   "metadata": {},
   "source": [
    "#### You can also attempt to detect a TextBlob’s language using TextBlob.detect_language()."
   ]
  },
  {
   "cell_type": "code",
   "execution_count": 6,
   "id": "cb19b8f2",
   "metadata": {},
   "outputs": [],
   "source": [
    "# d = TextBlob(\"what is you name\")\n",
    "# d.detect_language()"
   ]
  },
  {
   "cell_type": "code",
   "execution_count": null,
   "id": "c09efe07",
   "metadata": {},
   "outputs": [],
   "source": []
  }
 ],
 "metadata": {
  "kernelspec": {
   "display_name": "Python 3 (ipykernel)",
   "language": "python",
   "name": "python3"
  },
  "language_info": {
   "codemirror_mode": {
    "name": "ipython",
    "version": 3
   },
   "file_extension": ".py",
   "mimetype": "text/x-python",
   "name": "python",
   "nbconvert_exporter": "python",
   "pygments_lexer": "ipython3",
   "version": "3.7.3"
  }
 },
 "nbformat": 4,
 "nbformat_minor": 5
}
