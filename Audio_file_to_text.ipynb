{
 "cells": [
  {
   "cell_type": "markdown",
   "id": "fa15da66",
   "metadata": {},
   "source": [
    "## Converting Audio file to text"
   ]
  },
  {
   "cell_type": "code",
   "execution_count": 1,
   "id": "22b29fb7",
   "metadata": {},
   "outputs": [
    {
     "name": "stdout",
     "output_type": "stream",
     "text": [
      "Requirement already satisfied: SpeechRecognition==3.8.1 in c:\\users\\preeti\\appdata\\local\\programs\\python\\python37\\lib\\site-packages (3.8.1)\n"
     ]
    }
   ],
   "source": [
    "# installing important libraries\n",
    "#!pip install --upgrade pip\n",
    "#!pip install SpeechRecognition==3.8.1\n",
    "#!python -m pip install pyaudio\n",
    "\n",
    "# !pip install SpeechRecognition\n",
    "# import pyaudio\n",
    "\n",
    "#!pip install pipwin\n",
    "#!pipwin install pyaudio\n",
    "\n",
    "#!pip install textblob\n",
    "# ! pip install -U textblob\n",
    "# ! python -m textblob.download_corpora"
   ]
  },
  {
   "cell_type": "code",
   "execution_count": 2,
   "id": "c3a9af87",
   "metadata": {},
   "outputs": [
    {
     "data": {
      "text/plain": [
       "'3.8.1'"
      ]
     },
     "execution_count": 2,
     "metadata": {},
     "output_type": "execute_result"
    }
   ],
   "source": [
    "#import library\n",
    "\n",
    "import speech_recognition as sr\n",
    "from textblob import TextBlob\n",
    "sr.__version__"
   ]
  },
  {
   "cell_type": "code",
   "execution_count": 4,
   "id": "579efbc6",
   "metadata": {},
   "outputs": [
    {
     "name": "stdout",
     "output_type": "stream",
     "text": [
      "Converting audio transripts into text\n",
      "\n",
      "Your audio text is= \n",
      " hi myself Arjun Verma we are going to convert\n",
      "\n",
      " Native language text = \n",
      " हाय खुद अर्जुन वर्मा हम कन्वर्ट करने जा रहे हैं\n"
     ]
    }
   ],
   "source": [
    "# initialize recognizer class (for recognizing the speech)\n",
    "r = sr.Recognizer()\n",
    "\n",
    "# reading audio file as source\n",
    "# listening the audio file and store in audio_text variable\n",
    "\n",
    "with sr.AudioFile(\"Recording.wav\") as source:\n",
    "    \n",
    "    audio_text = r.listen(source, timeout = 2)\n",
    "    \n",
    "# recognize_google() method throw a request error if API is unreachable, hence using exception handling\n",
    "    try:\n",
    "            # using google speech recognition\n",
    "        text = r.recognize_google(audio_text)\n",
    "        print(\"Converting audio transripts into text\\n\")\n",
    "        print(\"Your audio text is= \\n\", text)\n",
    "\n",
    "        blob = TextBlob(text)\n",
    "        your_lang = blob.translate(from_lang = 'en', to = 'hi')\n",
    "        print(\"\\n Native language text = \\n\", your_lang)\n",
    "\n",
    "    except:\n",
    "        print(\"sorry run again\")"
   ]
  },
  {
   "cell_type": "code",
   "execution_count": null,
   "id": "42573170",
   "metadata": {},
   "outputs": [],
   "source": []
  }
 ],
 "metadata": {
  "kernelspec": {
   "display_name": "Python 3 (ipykernel)",
   "language": "python",
   "name": "python3"
  },
  "language_info": {
   "codemirror_mode": {
    "name": "ipython",
    "version": 3
   },
   "file_extension": ".py",
   "mimetype": "text/x-python",
   "name": "python",
   "nbconvert_exporter": "python",
   "pygments_lexer": "ipython3",
   "version": "3.7.3"
  }
 },
 "nbformat": 4,
 "nbformat_minor": 5
}
