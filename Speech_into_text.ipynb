{
 "cells": [
  {
   "cell_type": "markdown",
   "id": "ce978b07",
   "metadata": {},
   "source": [
    "### Converting a speech into text"
   ]
  },
  {
   "cell_type": "markdown",
   "id": "813e2f70",
   "metadata": {},
   "source": [
    "## Speech to text practical"
   ]
  },
  {
   "cell_type": "code",
   "execution_count": 7,
   "id": "ca6fed2c",
   "metadata": {},
   "outputs": [],
   "source": [
    "import speech_recognition as sr"
   ]
  },
  {
   "cell_type": "code",
   "execution_count": 11,
   "id": "52c1b8d8",
   "metadata": {},
   "outputs": [],
   "source": [
    "r = sr.Recognizer()\n",
    "\n",
    "# reading microphone as source\n",
    "# listening the speech and store in audio_text variable\n",
    "\n",
    "with sr.Microphone() as source:\n",
    "    print(\"start talking\")\n",
    "    \n",
    "    Audio_text = r.listen(source)\n",
    "    print(\"Here your converted below text\")\n",
    "    \n",
    "# recognize() method will throw  a request error if the API is unreachable, hence using exception handling\n",
    "\n",
    "    try:\n",
    "        # using google speech recognition\n",
    "        speech_2_text = r.recognize_google(Audio_text)\n",
    "        print(speech_2_text)\n",
    "        \n",
    "    except:\n",
    "        print(\"Sorry I didn't get that\")"
   ]
  },
  {
   "cell_type": "markdown",
   "id": "c0f11f13",
   "metadata": {},
   "source": [
    "## How to write in the document by speech to text?"
   ]
  },
  {
   "cell_type": "code",
   "execution_count": 12,
   "id": "e2f53da5",
   "metadata": {},
   "outputs": [],
   "source": [
    "#open the file with write mode\n",
    "f = open(\"story.doc\", \"w\")  #.text\n",
    "\n",
    "#write the recorded content into the file\n",
    "f.write(speech_2_text)\n",
    "\n",
    "# close the file\n",
    "f.cose()"
   ]
  },
  {
   "cell_type": "code",
   "execution_count": null,
   "id": "2d0137d8",
   "metadata": {},
   "outputs": [],
   "source": []
  }
 ],
 "metadata": {
  "kernelspec": {
   "display_name": "Python 3 (ipykernel)",
   "language": "python",
   "name": "python3"
  },
  "language_info": {
   "codemirror_mode": {
    "name": "ipython",
    "version": 3
   },
   "file_extension": ".py",
   "mimetype": "text/x-python",
   "name": "python",
   "nbconvert_exporter": "python",
   "pygments_lexer": "ipython3",
   "version": "3.7.3"
  }
 },
 "nbformat": 4,
 "nbformat_minor": 5
}
