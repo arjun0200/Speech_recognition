{
 "cells": [
  {
   "cell_type": "markdown",
   "id": "13326f0e",
   "metadata": {},
   "source": [
    "## One language to another using speech recognition"
   ]
  },
  {
   "cell_type": "code",
   "execution_count": 1,
   "id": "31a21ae8",
   "metadata": {},
   "outputs": [],
   "source": [
    "import speech_recognition as sr\n",
    "from textblob import TextBlob"
   ]
  },
  {
   "cell_type": "code",
   "execution_count": null,
   "id": "dc5e0020",
   "metadata": {},
   "outputs": [],
   "source": [
    "r = sr.Recognizer()\n",
    "\n",
    "# reading microphone as source\n",
    "#listening the speech and store in audio_text variable\n",
    "\n",
    "with sr.Microphone() as source:\n",
    "    print(\"Start talking\")\n",
    "    audio_text = r.listen(source)\n",
    "    print(\"here is your converted text\")\n",
    "    \n",
    "# recognize() method will throw a request error if API is unreachable, hence using exception handling\n",
    "    \n",
    "    try:\n",
    "        speech_text = r.recognize_google(audio_text, language = 'en')\n",
    "        blob = TextBlob(speech_text)\n",
    "        print(blob.translate(from_lang = 'en', to = 'hi'))\n",
    "    except:\n",
    "        print(\"try again to speak\")"
   ]
  },
  {
   "cell_type": "code",
   "execution_count": null,
   "id": "d69e45f0",
   "metadata": {},
   "outputs": [],
   "source": []
  }
 ],
 "metadata": {
  "kernelspec": {
   "display_name": "Python 3 (ipykernel)",
   "language": "python",
   "name": "python3"
  },
  "language_info": {
   "codemirror_mode": {
    "name": "ipython",
    "version": 3
   },
   "file_extension": ".py",
   "mimetype": "text/x-python",
   "name": "python",
   "nbconvert_exporter": "python",
   "pygments_lexer": "ipython3",
   "version": "3.7.3"
  }
 },
 "nbformat": 4,
 "nbformat_minor": 5
}
